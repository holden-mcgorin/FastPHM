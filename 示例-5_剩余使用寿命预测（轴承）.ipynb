{
 "cells": [
  {
   "cell_type": "markdown",
   "metadata": {
    "collapsed": false,
    "jupyter": {
     "outputs_hidden": false
    },
    "pycharm": {
     "name": "#%% md\n"
    }
   },
   "source": [
    "# 示例：剩余使用寿命预测"
   ]
  },
  {
   "cell_type": "code",
   "execution_count": 1,
   "metadata": {
    "collapsed": false,
    "jupyter": {
     "outputs_hidden": false
    },
    "pycharm": {
     "is_executing": true,
     "name": "#%%\n"
    }
   },
   "outputs": [],
   "source": [
    "import torch\n",
    "from fastphm.data import Dataset\n",
    "from fastphm.data.FeatureExtractor import FeatureExtractor\n",
    "from fastphm.data.loader.bearing.XJTULoader import XJTULoader\n",
    "from fastphm.data.labeler.BearingRulLabeler import BearingRulLabeler\n",
    "from fastphm.data.processor.RMSProcessor import RMSProcessor\n",
    "from fastphm.metric.end2end.PHM2008Score import PHM2008Score\n",
    "from fastphm.metric.end2end.PHM2012Score import PHM2012Score\n",
    "from fastphm.metric.end2end.PercentError import PercentError\n",
    "from fastphm.data.stage.BearingStageCalculator import BearingStageCalculator\n",
    "from fastphm.data.stage.fpt.ThreeSigmaFPTCalculator import ThreeSigmaFPTCalculator\n",
    "from fastphm.model.pytorch.base.BaseTester import BaseTester\n",
    "from fastphm.model.pytorch.base.BaseTrainer import BaseTrainer\n",
    "from fastphm.model.pytorch.basic.CNN import CNN\n",
    "from fastphm.metric.Evaluator import Evaluator\n",
    "from fastphm.metric.end2end.MAE import MAE\n",
    "from fastphm.metric.end2end.MSE import MSE\n",
    "from fastphm.metric.end2end.RMSE import RMSE\n",
    "from fastphm.model.pytorch.callback.CheckGradientsCallback import CheckGradientsCallback\n",
    "from fastphm.model.pytorch.callback.EarlyStoppingCallback import EarlyStoppingCallback\n",
    "from fastphm.model.pytorch.callback.TensorBoardCallback import TensorBoardCallback\n",
    "from fastphm.util.Plotter import Plotter"
   ]
  },
  {
   "cell_type": "markdown",
   "metadata": {
    "collapsed": false,
    "jupyter": {
     "outputs_hidden": false
    },
    "pycharm": {
     "name": "#%% md\n"
    }
   },
   "source": [
    "### 定义 数据加载器、特征提取器、fpt计算器、eol计算器"
   ]
  },
  {
   "cell_type": "code",
   "execution_count": 2,
   "metadata": {
    "collapsed": false,
    "jupyter": {
     "outputs_hidden": false
    },
    "pycharm": {
     "name": "#%%\n"
    }
   },
   "outputs": [
    {
     "name": "stderr",
     "output_type": "stream",
     "text": [
      "[DEBUG   14:20:12]  \n",
      "[DataLoader]  Root directory: D:\\data\\dataset\\XJTU-SY_Bearing_Datasets\n",
      "\t✓ Bearing1_1, location: D:\\data\\dataset\\XJTU-SY_Bearing_Datasets\\35Hz12kN\\Bearing1_1\n",
      "\t✓ Bearing1_2, location: D:\\data\\dataset\\XJTU-SY_Bearing_Datasets\\35Hz12kN\\Bearing1_2\n",
      "\t✓ Bearing1_3, location: D:\\data\\dataset\\XJTU-SY_Bearing_Datasets\\35Hz12kN\\Bearing1_3\n",
      "\t✓ Bearing1_4, location: D:\\data\\dataset\\XJTU-SY_Bearing_Datasets\\35Hz12kN\\Bearing1_4\n",
      "\t✓ Bearing1_5, location: D:\\data\\dataset\\XJTU-SY_Bearing_Datasets\\35Hz12kN\\Bearing1_5\n",
      "\t✓ Bearing2_1, location: D:\\data\\dataset\\XJTU-SY_Bearing_Datasets\\37.5Hz11kN\\Bearing2_1\n",
      "\t✓ Bearing2_2, location: D:\\data\\dataset\\XJTU-SY_Bearing_Datasets\\37.5Hz11kN\\Bearing2_2\n",
      "\t✓ Bearing2_3, location: D:\\data\\dataset\\XJTU-SY_Bearing_Datasets\\37.5Hz11kN\\Bearing2_3\n",
      "\t✓ Bearing2_4, location: D:\\data\\dataset\\XJTU-SY_Bearing_Datasets\\37.5Hz11kN\\Bearing2_4\n",
      "\t✓ Bearing2_5, location: D:\\data\\dataset\\XJTU-SY_Bearing_Datasets\\37.5Hz11kN\\Bearing2_5\n",
      "\t✓ Bearing3_1, location: D:\\data\\dataset\\XJTU-SY_Bearing_Datasets\\40Hz10kN\\Bearing3_1\n",
      "\t✓ Bearing3_2, location: D:\\data\\dataset\\XJTU-SY_Bearing_Datasets\\40Hz10kN\\Bearing3_2\n",
      "\t✓ Bearing3_3, location: D:\\data\\dataset\\XJTU-SY_Bearing_Datasets\\40Hz10kN\\Bearing3_3\n",
      "\t✓ Bearing3_4, location: D:\\data\\dataset\\XJTU-SY_Bearing_Datasets\\40Hz10kN\\Bearing3_4\n",
      "\t✓ Bearing3_5, location: D:\\data\\dataset\\XJTU-SY_Bearing_Datasets\\40Hz10kN\\Bearing3_5\n"
     ]
    }
   ],
   "source": [
    "data_loader = XJTULoader('D:\\\\data\\\\dataset\\\\XJTU-SY_Bearing_Datasets')\n",
    "feature_extractor = FeatureExtractor(RMSProcessor(data_loader.continuum))\n",
    "fpt_calculator = ThreeSigmaFPTCalculator()\n",
    "stage_calculator = BearingStageCalculator(data_loader.continuum, fpt_calculator)\n",
    "Plotter.DPI = 80"
   ]
  },
  {
   "cell_type": "markdown",
   "metadata": {
    "collapsed": false,
    "jupyter": {
     "outputs_hidden": false
    },
    "pycharm": {
     "name": "#%% md\n"
    }
   },
   "source": [
    "### 获取原始数据、特征数据、阶段数据"
   ]
  },
  {
   "cell_type": "code",
   "execution_count": 3,
   "metadata": {
    "collapsed": false,
    "jupyter": {
     "outputs_hidden": false
    },
    "pycharm": {
     "name": "#%%\n"
    }
   },
   "outputs": [
    {
     "name": "stderr",
     "output_type": "stream",
     "text": [
      "[INFO    14:20:12]  [DataLoader]  -> Loading data entity: Bearing1_3\n",
      "[INFO    14:20:15]  [DataLoader]  ✓ Successfully loaded: Bearing1_3\n"
     ]
    }
   ],
   "source": [
    "bearing = data_loader(\"Bearing1_3\", 'Horizontal Vibration')\n",
    "feature_extractor(bearing)\n",
    "stage_calculator(bearing)"
   ]
  },
  {
   "cell_type": "markdown",
   "metadata": {
    "collapsed": false,
    "jupyter": {
     "outputs_hidden": false
    },
    "pycharm": {
     "name": "#%% md\n"
    }
   },
   "source": [
    "### 生成训练数据"
   ]
  },
  {
   "cell_type": "code",
   "execution_count": 4,
   "metadata": {
    "collapsed": false,
    "jupyter": {
     "outputs_hidden": false
    },
    "pycharm": {
     "name": "#%%\n"
    }
   },
   "outputs": [],
   "source": [
    "generator = BearingRulLabeler(2048, is_from_fpt=False, is_rectified=True)\n",
    "data_set = generator(bearing)\n",
    "train_set, test_set = data_set.split_by_ratio(0.7)"
   ]
  },
  {
   "cell_type": "markdown",
   "metadata": {},
   "source": [
    "### 配置训练算法"
   ]
  },
  {
   "cell_type": "code",
   "execution_count": 5,
   "metadata": {},
   "outputs": [],
   "source": [
    "train_config = {\n",
    "    'device': torch.device('cuda' if torch.cuda.is_available() else 'cpu'),\n",
    "    'dtype': torch.float32,\n",
    "    'epochs': 20,\n",
    "    'batch_size': 256,\n",
    "    'lr': 0.01,\n",
    "    'weight_decay': 0.0,\n",
    "}\n",
    "trainer = BaseTrainer(train_config)"
   ]
  },
  {
   "cell_type": "markdown",
   "metadata": {
    "collapsed": false,
    "jupyter": {
     "outputs_hidden": false
    },
    "pycharm": {
     "name": "#%% md\n"
    }
   },
   "source": [
    "### 定义模型并训练"
   ]
  },
  {
   "cell_type": "code",
   "execution_count": 6,
   "metadata": {
    "collapsed": false,
    "jupyter": {
     "outputs_hidden": false
    },
    "pycharm": {
     "is_executing": true,
     "name": "#%%\n"
    }
   },
   "outputs": [
    {
     "name": "stderr",
     "output_type": "stream",
     "text": [
      "[INFO    14:20:15]  \n",
      "[Trainer]  Start training by BaseTrainer:\n",
      "\ttraining set: Bearing1_3\n",
      "\tdevice: cuda\n",
      "\tdtype: torch.float32\n",
      "\tepochs: 20\n",
      "\tbatch_size: 256\n",
      "\tlr: 0.01\n",
      "\tweight_decay: 0.0\n",
      "\tcallbacks: []\n",
      "\tcriterion: MSELoss()\n",
      "\toptimizer: Adam\n",
      "[INFO    14:20:16]  [BaseTrainer]  Epoch [1/20], MSELoss:0.9514\n",
      "[INFO    14:20:16]  [BaseTrainer]  Epoch [2/20], MSELoss:0.1000\n",
      "[INFO    14:20:16]  [BaseTrainer]  Epoch [3/20], MSELoss:0.0201\n",
      "[INFO    14:20:16]  [BaseTrainer]  Epoch [4/20], MSELoss:0.0092\n",
      "[INFO    14:20:16]  [BaseTrainer]  Epoch [5/20], MSELoss:0.0040\n",
      "[INFO    14:20:16]  [BaseTrainer]  Epoch [6/20], MSELoss:0.0025\n",
      "[INFO    14:20:16]  [BaseTrainer]  Epoch [7/20], MSELoss:0.0021\n",
      "[INFO    14:20:16]  [BaseTrainer]  Epoch [8/20], MSELoss:0.0019\n",
      "[INFO    14:20:16]  [BaseTrainer]  Epoch [9/20], MSELoss:0.0016\n",
      "[INFO    14:20:16]  [BaseTrainer]  Epoch [10/20], MSELoss:0.0015\n",
      "[INFO    14:20:16]  [BaseTrainer]  Epoch [11/20], MSELoss:0.0014\n",
      "[INFO    14:20:16]  [BaseTrainer]  Epoch [12/20], MSELoss:0.0013\n",
      "[INFO    14:20:16]  [BaseTrainer]  Epoch [13/20], MSELoss:0.0012\n",
      "[INFO    14:20:16]  [BaseTrainer]  Epoch [14/20], MSELoss:0.0012\n",
      "[INFO    14:20:16]  [BaseTrainer]  Epoch [15/20], MSELoss:0.0012\n",
      "[INFO    14:20:16]  [BaseTrainer]  Epoch [16/20], MSELoss:0.0012\n",
      "[INFO    14:20:16]  [BaseTrainer]  Epoch [17/20], MSELoss:0.0013\n",
      "[INFO    14:20:16]  [BaseTrainer]  Epoch [18/20], MSELoss:0.0012\n",
      "[INFO    14:20:16]  [BaseTrainer]  Epoch [19/20], MSELoss:0.0013\n",
      "[INFO    14:20:16]  [BaseTrainer]  Epoch [20/20], MSELoss:0.0010\n"
     ]
    },
    {
     "data": {
      "image/png": "[encoded data removed]",
      "text/plain": [
       "<Figure size 400x280 with 1 Axes>"
      ]
     },
     "metadata": {},
     "output_type": "display_data"
    }
   ],
   "source": [
    "model = CNN(2048, 1)\n",
    "losses = trainer.train(model, train_set)\n",
    "Plotter.loss(losses)"
   ]
  },
  {
   "cell_type": "markdown",
   "metadata": {
    "collapsed": false,
    "jupyter": {
     "outputs_hidden": false
    },
    "pycharm": {
     "name": "#%% md\n"
    }
   },
   "source": [
    "### 做出预测"
   ]
  },
  {
   "cell_type": "code",
   "execution_count": 7,
   "metadata": {
    "collapsed": false,
    "jupyter": {
     "outputs_hidden": false
    },
    "pycharm": {
     "is_executing": true,
     "name": "#%%\n"
    }
   },
   "outputs": [
    {
     "data": {
      "image/png": "[encoded data removed]",
      "text/plain": [
       "<Figure size 400x280 with 1 Axes>"
      ]
     },
     "metadata": {},
     "output_type": "display_data"
    },
    {
     "data": {
      "text/plain": [
       "'default'"
      ]
     },
     "execution_count": 7,
     "metadata": {},
     "output_type": "execute_result"
    }
   ],
   "source": [
    "tester = BaseTester()\n",
    "result = tester.test(model, test_set)\n",
    "Plotter.rul_end2end(test_set, result, label_x='Time (min)', label_y='Relative RUL')"
   ]
  },
  {
   "cell_type": "markdown",
   "metadata": {
    "collapsed": false,
    "jupyter": {
     "outputs_hidden": false
    },
    "pycharm": {
     "name": "#%% md\n"
    }
   },
   "source": [
    "### 预测结果评价"
   ]
  },
  {
   "cell_type": "code",
   "execution_count": 8,
   "metadata": {
    "pycharm": {
     "is_executing": true,
     "name": "#%%\n"
    }
   },
   "outputs": [
    {
     "name": "stderr",
     "output_type": "stream",
     "text": [
      "[INFO    14:20:17]  \n",
      "[Evaluator]  Performance Evaluation:\n",
      "               MAE     MSE    RMSE PercentError PHM2012Score PHM2008Score\n",
      "Bearing1_3  0.0277  0.0012  0.0348       -2.23%       0.6378       2.0030\n",
      "\n"
     ]
    },
    {
     "data": {
      "text/html": [
       "<div>\n",
       "<style scoped>\n",
       "    .dataframe tbody tr th:only-of-type {\n",
       "        vertical-align: middle;\n",
       "    }\n",
       "\n",
       "    .dataframe tbody tr th {\n",
       "        vertical-align: top;\n",
       "    }\n",
       "\n",
       "    .dataframe thead th {\n",
       "        text-align: right;\n",
       "    }\n",
       "</style>\n",
       "<table border=\"1\" class=\"dataframe\">\n",
       "  <thead>\n",
       "    <tr style=\"text-align: right;\">\n",
       "      <th></th>\n",
       "      <th>MAE</th>\n",
       "      <th>MSE</th>\n",
       "      <th>RMSE</th>\n",
       "      <th>PercentError</th>\n",
       "      <th>PHM2012Score</th>\n",
       "      <th>PHM2008Score</th>\n",
       "    </tr>\n",
       "  </thead>\n",
       "  <tbody>\n",
       "    <tr>\n",
       "      <th>Bearing1_3</th>\n",
       "      <td>0.0277</td>\n",
       "      <td>0.0012</td>\n",
       "      <td>0.0348</td>\n",
       "      <td>-2.23%</td>\n",
       "      <td>0.6378</td>\n",
       "      <td>2.0030</td>\n",
       "    </tr>\n",
       "  </tbody>\n",
       "</table>\n",
       "</div>"
      ],
      "text/plain": [
       "               MAE     MSE    RMSE PercentError PHM2012Score PHM2008Score\n",
       "Bearing1_3  0.0277  0.0012  0.0348       -2.23%       0.6378       2.0030"
      ]
     },
     "execution_count": 8,
     "metadata": {},
     "output_type": "execute_result"
    }
   ],
   "source": [
    "evaluator = Evaluator()\n",
    "evaluator.add(MAE(), MSE(), RMSE(), PercentError(), PHM2012Score(), PHM2008Score())\n",
    "evaluator(test_set, result)"
   ]
  }
 ],
 "metadata": {
  "kernelspec": {
   "display_name": "Python 3 (ipykernel)",
   "language": "python",
   "name": "python3"
  },
  "language_info": {
   "codemirror_mode": {
    "name": "ipython",
    "version": 3
   },
   "file_extension": ".py",
   "mimetype": "text/x-python",
   "name": "python",
   "nbconvert_exporter": "python",
   "pygments_lexer": "ipython3",
   "version": "3.8.10"
  }
 },
 "nbformat": 4,
 "nbformat_minor": 4
}

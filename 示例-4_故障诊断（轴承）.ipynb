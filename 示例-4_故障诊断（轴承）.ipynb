{
 "cells": [
  {
   "cell_type": "markdown",
   "metadata": {
    "collapsed": false,
    "jupyter": {
     "outputs_hidden": false
    },
    "pycharm": {
     "name": "#%% md\n"
    }
   },
   "source": [
    "# 示例：轴承故障诊断"
   ]
  },
  {
   "cell_type": "code",
   "execution_count": 1,
   "metadata": {
    "collapsed": false,
    "jupyter": {
     "outputs_hidden": false
    },
    "pycharm": {
     "is_executing": true,
     "name": "#%%\n"
    }
   },
   "outputs": [],
   "source": [
    "import torch\n",
    "from torch import nn\n",
    "\n",
    "from fastphm.data import Dataset\n",
    "from fastphm.data.FeatureExtractor import FeatureExtractor\n",
    "from fastphm.data.labeler.BearingFaultLabeler import BearingFaultLabeler\n",
    "from fastphm.data.loader.bearing.XJTULoader import XJTULoader\n",
    "from fastphm.data.processor.RMSProcessor import RMSProcessor\n",
    "from fastphm.entity.Bearing import Fault\n",
    "from fastphm.metric.Evaluator import Evaluator\n",
    "from fastphm.metric.end2end.Accuracy import Accuracy\n",
    "from fastphm.metric.end2end.WeightedF1Score import WeightedF1Score\n",
    "from fastphm.data.stage.BearingStageCalculator import BearingStageCalculator\n",
    "from fastphm.data.stage.fpt.ThreeSigmaFPTCalculator import ThreeSigmaFPTCalculator\n",
    "from fastphm.model.pytorch.base.BaseTester import BaseTester\n",
    "from fastphm.model.pytorch.base.BaseTrainer import BaseTrainer\n",
    "from fastphm.model.pytorch.basic.CNN import CNN\n",
    "from fastphm.util.Plotter import Plotter"
   ]
  },
  {
   "cell_type": "markdown",
   "metadata": {
    "collapsed": false,
    "jupyter": {
     "outputs_hidden": false
    },
    "pycharm": {
     "name": "#%% md\n"
    }
   },
   "source": [
    "### 定义 数据加载器、特征提取器、fpt计算器"
   ]
  },
  {
   "cell_type": "code",
   "execution_count": 2,
   "metadata": {
    "collapsed": false,
    "jupyter": {
     "outputs_hidden": false
    },
    "pycharm": {
     "name": "#%%\n"
    }
   },
   "outputs": [
    {
     "name": "stderr",
     "output_type": "stream",
     "text": [
      "[DEBUG   14:12:48]  \n",
      "[DataLoader]  Root directory: D:\\data\\dataset\\XJTU-SY_Bearing_Datasets\n",
      "\t✓ Bearing1_1, location: D:\\data\\dataset\\XJTU-SY_Bearing_Datasets\\35Hz12kN\\Bearing1_1\n",
      "\t✓ Bearing1_2, location: D:\\data\\dataset\\XJTU-SY_Bearing_Datasets\\35Hz12kN\\Bearing1_2\n",
      "\t✓ Bearing1_3, location: D:\\data\\dataset\\XJTU-SY_Bearing_Datasets\\35Hz12kN\\Bearing1_3\n",
      "\t✓ Bearing1_4, location: D:\\data\\dataset\\XJTU-SY_Bearing_Datasets\\35Hz12kN\\Bearing1_4\n",
      "\t✓ Bearing1_5, location: D:\\data\\dataset\\XJTU-SY_Bearing_Datasets\\35Hz12kN\\Bearing1_5\n",
      "\t✓ Bearing2_1, location: D:\\data\\dataset\\XJTU-SY_Bearing_Datasets\\37.5Hz11kN\\Bearing2_1\n",
      "\t✓ Bearing2_2, location: D:\\data\\dataset\\XJTU-SY_Bearing_Datasets\\37.5Hz11kN\\Bearing2_2\n",
      "\t✓ Bearing2_3, location: D:\\data\\dataset\\XJTU-SY_Bearing_Datasets\\37.5Hz11kN\\Bearing2_3\n",
      "\t✓ Bearing2_4, location: D:\\data\\dataset\\XJTU-SY_Bearing_Datasets\\37.5Hz11kN\\Bearing2_4\n",
      "\t✓ Bearing2_5, location: D:\\data\\dataset\\XJTU-SY_Bearing_Datasets\\37.5Hz11kN\\Bearing2_5\n",
      "\t✓ Bearing3_1, location: D:\\data\\dataset\\XJTU-SY_Bearing_Datasets\\40Hz10kN\\Bearing3_1\n",
      "\t✓ Bearing3_2, location: D:\\data\\dataset\\XJTU-SY_Bearing_Datasets\\40Hz10kN\\Bearing3_2\n",
      "\t✓ Bearing3_3, location: D:\\data\\dataset\\XJTU-SY_Bearing_Datasets\\40Hz10kN\\Bearing3_3\n",
      "\t✓ Bearing3_4, location: D:\\data\\dataset\\XJTU-SY_Bearing_Datasets\\40Hz10kN\\Bearing3_4\n",
      "\t✓ Bearing3_5, location: D:\\data\\dataset\\XJTU-SY_Bearing_Datasets\\40Hz10kN\\Bearing3_5\n"
     ]
    }
   ],
   "source": [
    "data_loader = XJTULoader('D:\\\\data\\\\dataset\\\\XJTU-SY_Bearing_Datasets')\n",
    "feature_extractor = FeatureExtractor(RMSProcessor(data_loader.continuum))\n",
    "fpt_calculator = ThreeSigmaFPTCalculator()\n",
    "stage_calculator = BearingStageCalculator(data_loader.continuum, fpt_calculator)\n",
    "Plotter.DPI = 80"
   ]
  },
  {
   "cell_type": "markdown",
   "metadata": {
    "collapsed": false,
    "jupyter": {
     "outputs_hidden": false
    },
    "pycharm": {
     "name": "#%% md\n"
    }
   },
   "source": [
    "### 构造数据集"
   ]
  },
  {
   "cell_type": "code",
   "execution_count": 3,
   "metadata": {
    "collapsed": false,
    "jupyter": {
     "outputs_hidden": false
    },
    "pycharm": {
     "name": "#%%\n"
    }
   },
   "outputs": [
    {
     "name": "stderr",
     "output_type": "stream",
     "text": [
      "[INFO    14:12:48]  [DataLoader]  -> Loading data entity: Bearing1_1\n",
      "[INFO    14:12:51]  [DataLoader]  ✓ Successfully loaded: Bearing1_1\n",
      "[INFO    14:12:51]  [DataLoader]  -> Loading data entity: Bearing1_4\n",
      "[INFO    14:12:53]  [DataLoader]  ✓ Successfully loaded: Bearing1_4\n",
      "[INFO    14:12:53]  [DataLoader]  -> Loading data entity: Bearing2_1\n",
      "[INFO    14:13:02]  [DataLoader]  ✓ Successfully loaded: Bearing2_1\n",
      "[INFO    14:13:03]  [DataLoader]  -> Loading data entity: Bearing1_2\n",
      "[INFO    14:13:06]  [DataLoader]  ✓ Successfully loaded: Bearing1_2\n",
      "[INFO    14:13:06]  [DataLoader]  -> Loading data entity: Bearing2_3\n",
      "[INFO    14:13:16]  [DataLoader]  ✓ Successfully loaded: Bearing2_3\n"
     ]
    }
   ],
   "source": [
    "fault_types = [Fault.NC, Fault.OF, Fault.IF, Fault.CF]\n",
    "labeler = BearingFaultLabeler(2048, fault_types, is_multi_hot=False)\n",
    "dataset = Dataset()\n",
    "for bearing_name in ['Bearing1_1', 'Bearing1_4', 'Bearing2_1', 'Bearing1_2', 'Bearing2_3']:\n",
    "    bearing = data_loader(bearing_name, 'Horizontal Vibration')\n",
    "    feature_extractor(bearing)\n",
    "    stage_calculator(bearing)\n",
    "    dataset.add(labeler(bearing))"
   ]
  },
  {
   "cell_type": "markdown",
   "metadata": {
    "collapsed": false,
    "jupyter": {
     "outputs_hidden": false
    },
    "pycharm": {
     "name": "#%% md\n"
    }
   },
   "source": [
    "### 划分训练数据与测试数据"
   ]
  },
  {
   "cell_type": "code",
   "execution_count": 4,
   "metadata": {
    "collapsed": false,
    "jupyter": {
     "outputs_hidden": false
    },
    "pycharm": {
     "name": "#%%\n"
    }
   },
   "outputs": [],
   "source": [
    "train_set, test_set = dataset.split_by_ratio(0.7)"
   ]
  },
  {
   "cell_type": "markdown",
   "metadata": {},
   "source": [
    "### 配置训练算法"
   ]
  },
  {
   "cell_type": "code",
   "execution_count": 5,
   "metadata": {},
   "outputs": [],
   "source": [
    "train_config = {\n",
    "    'device': torch.device('cuda' if torch.cuda.is_available() else 'cpu'),\n",
    "    'dtype': torch.float32,\n",
    "    'epochs': 20,\n",
    "    'batch_size': 128,\n",
    "    'lr': 0.01,\n",
    "    'weight_decay': 0.0,\n",
    "    'criterion': nn.CrossEntropyLoss(),\n",
    "}\n",
    "trainer = BaseTrainer(train_config)"
   ]
  },
  {
   "cell_type": "markdown",
   "metadata": {
    "collapsed": false,
    "jupyter": {
     "outputs_hidden": false
    },
    "pycharm": {
     "name": "#%% md\n"
    }
   },
   "source": [
    "### 定义模型并训练"
   ]
  },
  {
   "cell_type": "code",
   "execution_count": 6,
   "metadata": {
    "collapsed": false,
    "jupyter": {
     "outputs_hidden": false
    },
    "pycharm": {
     "name": "#%%\n"
    }
   },
   "outputs": [
    {
     "name": "stderr",
     "output_type": "stream",
     "text": [
      "[INFO    14:13:16]  \n",
      "[Trainer]  Start training by BaseTrainer:\n",
      "\ttraining set: Bearing1_1; Bearing1_4; Bearing2_1;…\n",
      "\tdevice: cuda\n",
      "\tdtype: torch.float32\n",
      "\tepochs: 20\n",
      "\tbatch_size: 128\n",
      "\tlr: 0.01\n",
      "\tweight_decay: 0.0\n",
      "\tcriterion: CrossEntropyLoss()\n",
      "\tcallbacks: []\n",
      "\toptimizer: Adam\n",
      "[INFO    14:13:17]  [BaseTrainer]  Epoch [1/20], CrossEntropyLoss:0.2655\n",
      "[INFO    14:13:17]  [BaseTrainer]  Epoch [2/20], CrossEntropyLoss:0.0759\n",
      "[INFO    14:13:18]  [BaseTrainer]  Epoch [3/20], CrossEntropyLoss:0.0603\n",
      "[INFO    14:13:18]  [BaseTrainer]  Epoch [4/20], CrossEntropyLoss:0.0497\n",
      "[INFO    14:13:19]  [BaseTrainer]  Epoch [5/20], CrossEntropyLoss:0.0243\n",
      "[INFO    14:13:19]  [BaseTrainer]  Epoch [6/20], CrossEntropyLoss:0.0529\n",
      "[INFO    14:13:19]  [BaseTrainer]  Epoch [7/20], CrossEntropyLoss:0.0163\n",
      "[INFO    14:13:20]  [BaseTrainer]  Epoch [8/20], CrossEntropyLoss:0.0133\n",
      "[INFO    14:13:20]  [BaseTrainer]  Epoch [9/20], CrossEntropyLoss:0.0402\n",
      "[INFO    14:13:20]  [BaseTrainer]  Epoch [10/20], CrossEntropyLoss:0.0551\n",
      "[INFO    14:13:21]  [BaseTrainer]  Epoch [11/20], CrossEntropyLoss:0.0346\n",
      "[INFO    14:13:21]  [BaseTrainer]  Epoch [12/20], CrossEntropyLoss:0.0252\n",
      "[INFO    14:13:22]  [BaseTrainer]  Epoch [13/20], CrossEntropyLoss:0.0110\n",
      "[INFO    14:13:22]  [BaseTrainer]  Epoch [14/20], CrossEntropyLoss:0.0085\n",
      "[INFO    14:13:22]  [BaseTrainer]  Epoch [15/20], CrossEntropyLoss:0.0062\n",
      "[INFO    14:13:23]  [BaseTrainer]  Epoch [16/20], CrossEntropyLoss:0.0047\n",
      "[INFO    14:13:23]  [BaseTrainer]  Epoch [17/20], CrossEntropyLoss:0.0050\n",
      "[INFO    14:13:23]  [BaseTrainer]  Epoch [18/20], CrossEntropyLoss:0.0067\n",
      "[INFO    14:13:24]  [BaseTrainer]  Epoch [19/20], CrossEntropyLoss:0.0036\n",
      "[INFO    14:13:24]  [BaseTrainer]  Epoch [20/20], CrossEntropyLoss:0.0066\n"
     ]
    },
    {
     "data": {
      "image/png": "[encoded data removed]",
      "text/plain": [
       "<Figure size 400x280 with 1 Axes>"
      ]
     },
     "metadata": {},
     "output_type": "display_data"
    }
   ],
   "source": [
    "model = CNN(2048, len(fault_types))\n",
    "losses = trainer.train(model, train_set)\n",
    "Plotter.loss(losses)"
   ]
  },
  {
   "cell_type": "markdown",
   "metadata": {
    "collapsed": false,
    "jupyter": {
     "outputs_hidden": false
    },
    "pycharm": {
     "name": "#%% md\n"
    }
   },
   "source": [
    "### 预测"
   ]
  },
  {
   "cell_type": "code",
   "execution_count": 7,
   "metadata": {
    "collapsed": false,
    "jupyter": {
     "outputs_hidden": false
    },
    "pycharm": {
     "name": "#%%\n"
    }
   },
   "outputs": [],
   "source": [
    "tester = BaseTester()\n",
    "result = tester.test(model, test_set)"
   ]
  },
  {
   "cell_type": "markdown",
   "metadata": {},
   "source": [
    "### 预测结果评价（故障诊断）"
   ]
  },
  {
   "cell_type": "code",
   "execution_count": 8,
   "metadata": {},
   "outputs": [
    {
     "data": {
      "image/png": "[encoded data removed]",
      "text/plain": [
       "<Figure size 400x280 with 2 Axes>"
      ]
     },
     "metadata": {},
     "output_type": "display_data"
    }
   ],
   "source": [
    "Plotter.confusion_matrix(test_set, result, types=fault_types)"
   ]
  },
  {
   "cell_type": "code",
   "execution_count": 9,
   "metadata": {
    "pycharm": {
     "name": "#%%\n"
    }
   },
   "outputs": [
    {
     "name": "stderr",
     "output_type": "stream",
     "text": [
      "[INFO    14:13:25]  \n",
      "[Evaluator]  Performance Evaluation:\n",
      "             Accuracy WeightedF1Score\n",
      "Bearing1_1     0.9662          0.9659\n",
      "Bearing1_4     0.9846          0.9823\n",
      "Bearing2_1     0.9970          0.9970\n",
      "Bearing1_2     0.9832          0.9845\n",
      "Bearing2_3     0.9949          0.9949\n",
      "mean(global)   0.9910          0.9909\n",
      "mean(group)    0.9910          0.9909\n",
      "\n"
     ]
    },
    {
     "data": {
      "text/html": [
       "<div>\n",
       "<style scoped>\n",
       "    .dataframe tbody tr th:only-of-type {\n",
       "        vertical-align: middle;\n",
       "    }\n",
       "\n",
       "    .dataframe tbody tr th {\n",
       "        vertical-align: top;\n",
       "    }\n",
       "\n",
       "    .dataframe thead th {\n",
       "        text-align: right;\n",
       "    }\n",
       "</style>\n",
       "<table border=\"1\" class=\"dataframe\">\n",
       "  <thead>\n",
       "    <tr style=\"text-align: right;\">\n",
       "      <th></th>\n",
       "      <th>Accuracy</th>\n",
       "      <th>WeightedF1Score</th>\n",
       "    </tr>\n",
       "  </thead>\n",
       "  <tbody>\n",
       "    <tr>\n",
       "      <th>Bearing1_1</th>\n",
       "      <td>0.9662</td>\n",
       "      <td>0.9659</td>\n",
       "    </tr>\n",
       "    <tr>\n",
       "      <th>Bearing1_4</th>\n",
       "      <td>0.9846</td>\n",
       "      <td>0.9823</td>\n",
       "    </tr>\n",
       "    <tr>\n",
       "      <th>Bearing2_1</th>\n",
       "      <td>0.9970</td>\n",
       "      <td>0.9970</td>\n",
       "    </tr>\n",
       "    <tr>\n",
       "      <th>Bearing1_2</th>\n",
       "      <td>0.9832</td>\n",
       "      <td>0.9845</td>\n",
       "    </tr>\n",
       "    <tr>\n",
       "      <th>Bearing2_3</th>\n",
       "      <td>0.9949</td>\n",
       "      <td>0.9949</td>\n",
       "    </tr>\n",
       "    <tr>\n",
       "      <th>mean(global)</th>\n",
       "      <td>0.9910</td>\n",
       "      <td>0.9909</td>\n",
       "    </tr>\n",
       "    <tr>\n",
       "      <th>mean(group)</th>\n",
       "      <td>0.9910</td>\n",
       "      <td>0.9909</td>\n",
       "    </tr>\n",
       "  </tbody>\n",
       "</table>\n",
       "</div>"
      ],
      "text/plain": [
       "             Accuracy WeightedF1Score\n",
       "Bearing1_1     0.9662          0.9659\n",
       "Bearing1_4     0.9846          0.9823\n",
       "Bearing2_1     0.9970          0.9970\n",
       "Bearing1_2     0.9832          0.9845\n",
       "Bearing2_3     0.9949          0.9949\n",
       "mean(global)   0.9910          0.9909\n",
       "mean(group)    0.9910          0.9909"
      ]
     },
     "execution_count": 9,
     "metadata": {},
     "output_type": "execute_result"
    }
   ],
   "source": [
    "evaluator = Evaluator()\n",
    "evaluator.add(Accuracy(), WeightedF1Score())\n",
    "evaluator(test_set, result)"
   ]
  },
  {
   "cell_type": "code",
   "execution_count": null,
   "metadata": {},
   "outputs": [],
   "source": []
  }
 ],
 "metadata": {
  "kernelspec": {
   "display_name": "Python 3 (ipykernel)",
   "language": "python",
   "name": "python3"
  },
  "language_info": {
   "codemirror_mode": {
    "name": "ipython",
    "version": 3
   },
   "file_extension": ".py",
   "mimetype": "text/x-python",
   "name": "python",
   "nbconvert_exporter": "python",
   "pygments_lexer": "ipython3",
   "version": "3.8.10"
  }
 },
 "nbformat": 4,
 "nbformat_minor": 4
}

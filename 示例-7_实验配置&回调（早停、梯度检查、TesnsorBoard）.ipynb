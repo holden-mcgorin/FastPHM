{
 "cells": [
  {
   "cell_type": "markdown",
   "metadata": {
    "collapsed": false,
    "jupyter": {
     "outputs_hidden": false
    },
    "pycharm": {
     "name": "#%% md\n"
    }
   },
   "source": [
    "# 示例：自定义实验配置及回调机制\n",
    "本示例在故障诊断示例基础上增加自定义配置功能"
   ]
  },
  {
   "cell_type": "code",
   "execution_count": 1,
   "metadata": {
    "collapsed": false,
    "jupyter": {
     "outputs_hidden": false
    },
    "pycharm": {
     "is_executing": true,
     "name": "#%%\n"
    }
   },
   "outputs": [],
   "source": [
    "import torch\n",
    "from torch import nn\n",
    "\n",
    "from fastphm.data import Dataset\n",
    "from fastphm.data.FeatureExtractor import FeatureExtractor\n",
    "from fastphm.data.labeler.BearingFaultLabeler import BearingFaultLabeler\n",
    "from fastphm.data.loader.bearing.XJTULoader import XJTULoader\n",
    "from fastphm.data.processor.RMSProcessor import RMSProcessor\n",
    "from fastphm.entity.Bearing import Fault\n",
    "from fastphm.metric.Evaluator import Evaluator\n",
    "from fastphm.metric.end2end.Accuracy import Accuracy\n",
    "from fastphm.metric.end2end.WeightedF1Score import WeightedF1Score\n",
    "from fastphm.data.stage.BearingStageCalculator import BearingStageCalculator\n",
    "from fastphm.data.stage.fpt.ThreeSigmaFPTCalculator import ThreeSigmaFPTCalculator\n",
    "from fastphm.model.pytorch.base.BaseTester import BaseTester\n",
    "from fastphm.model.pytorch.base.BaseTrainer import BaseTrainer\n",
    "from fastphm.model.pytorch.basic.CNN import CNN\n",
    "from fastphm.util.Plotter import Plotter\n",
    "from fastphm.model.pytorch.callback.CheckGradientsCallback import CheckGradientsCallback\n",
    "from fastphm.model.pytorch.callback.EarlyStoppingCallback import EarlyStoppingCallback\n",
    "from fastphm.model.pytorch.callback.TensorBoardCallback import TensorBoardCallback"
   ]
  },
  {
   "cell_type": "markdown",
   "metadata": {
    "collapsed": false,
    "jupyter": {
     "outputs_hidden": false
    },
    "pycharm": {
     "name": "#%% md\n"
    }
   },
   "source": [
    "### 定义 数据加载器、特征提取器、fpt计算器"
   ]
  },
  {
   "cell_type": "code",
   "execution_count": 2,
   "metadata": {
    "collapsed": false,
    "jupyter": {
     "outputs_hidden": false
    },
    "pycharm": {
     "name": "#%%\n"
    }
   },
   "outputs": [
    {
     "name": "stderr",
     "output_type": "stream",
     "text": [
      "[DEBUG   15:11:23]  \n",
      "[DataLoader]  Root directory: D:\\data\\dataset\\XJTU-SY_Bearing_Datasets\n",
      "\t✓ Bearing1_1, location: D:\\data\\dataset\\XJTU-SY_Bearing_Datasets\\35Hz12kN\\Bearing1_1\n",
      "\t✓ Bearing1_2, location: D:\\data\\dataset\\XJTU-SY_Bearing_Datasets\\35Hz12kN\\Bearing1_2\n",
      "\t✓ Bearing1_3, location: D:\\data\\dataset\\XJTU-SY_Bearing_Datasets\\35Hz12kN\\Bearing1_3\n",
      "\t✓ Bearing1_4, location: D:\\data\\dataset\\XJTU-SY_Bearing_Datasets\\35Hz12kN\\Bearing1_4\n",
      "\t✓ Bearing1_5, location: D:\\data\\dataset\\XJTU-SY_Bearing_Datasets\\35Hz12kN\\Bearing1_5\n",
      "\t✓ Bearing2_1, location: D:\\data\\dataset\\XJTU-SY_Bearing_Datasets\\37.5Hz11kN\\Bearing2_1\n",
      "\t✓ Bearing2_2, location: D:\\data\\dataset\\XJTU-SY_Bearing_Datasets\\37.5Hz11kN\\Bearing2_2\n",
      "\t✓ Bearing2_3, location: D:\\data\\dataset\\XJTU-SY_Bearing_Datasets\\37.5Hz11kN\\Bearing2_3\n",
      "\t✓ Bearing2_4, location: D:\\data\\dataset\\XJTU-SY_Bearing_Datasets\\37.5Hz11kN\\Bearing2_4\n",
      "\t✓ Bearing2_5, location: D:\\data\\dataset\\XJTU-SY_Bearing_Datasets\\37.5Hz11kN\\Bearing2_5\n",
      "\t✓ Bearing3_1, location: D:\\data\\dataset\\XJTU-SY_Bearing_Datasets\\40Hz10kN\\Bearing3_1\n",
      "\t✓ Bearing3_2, location: D:\\data\\dataset\\XJTU-SY_Bearing_Datasets\\40Hz10kN\\Bearing3_2\n",
      "\t✓ Bearing3_3, location: D:\\data\\dataset\\XJTU-SY_Bearing_Datasets\\40Hz10kN\\Bearing3_3\n",
      "\t✓ Bearing3_4, location: D:\\data\\dataset\\XJTU-SY_Bearing_Datasets\\40Hz10kN\\Bearing3_4\n",
      "\t✓ Bearing3_5, location: D:\\data\\dataset\\XJTU-SY_Bearing_Datasets\\40Hz10kN\\Bearing3_5\n"
     ]
    }
   ],
   "source": [
    "data_loader = XJTULoader('D:\\\\data\\\\dataset\\\\XJTU-SY_Bearing_Datasets')\n",
    "feature_extractor = FeatureExtractor(RMSProcessor(data_loader.continuum))\n",
    "fpt_calculator = ThreeSigmaFPTCalculator()\n",
    "stage_calculator = BearingStageCalculator(data_loader.continuum, fpt_calculator)\n",
    "Plotter.DPI = 80"
   ]
  },
  {
   "cell_type": "markdown",
   "metadata": {
    "collapsed": false,
    "jupyter": {
     "outputs_hidden": false
    },
    "pycharm": {
     "name": "#%% md\n"
    }
   },
   "source": [
    "### 构造数据集"
   ]
  },
  {
   "cell_type": "code",
   "execution_count": 3,
   "metadata": {
    "collapsed": false,
    "jupyter": {
     "outputs_hidden": false
    },
    "pycharm": {
     "name": "#%%\n"
    }
   },
   "outputs": [
    {
     "name": "stderr",
     "output_type": "stream",
     "text": [
      "[INFO    15:11:23]  [DataLoader]  -> Loading data entity: Bearing1_1\n",
      "[INFO    15:11:25]  [DataLoader]  ✓ Successfully loaded: Bearing1_1\n",
      "[INFO    15:11:25]  [DataLoader]  -> Loading data entity: Bearing1_2\n",
      "[INFO    15:11:29]  [DataLoader]  ✓ Successfully loaded: Bearing1_2\n",
      "[INFO    15:11:29]  [DataLoader]  -> Loading data entity: Bearing1_4\n",
      "[INFO    15:11:31]  [DataLoader]  ✓ Successfully loaded: Bearing1_4\n",
      "[INFO    15:11:31]  [DataLoader]  -> Loading data entity: Bearing2_1\n",
      "[INFO    15:11:40]  [DataLoader]  ✓ Successfully loaded: Bearing2_1\n",
      "[INFO    15:11:40]  [DataLoader]  -> Loading data entity: Bearing2_3\n",
      "[INFO    15:11:51]  [DataLoader]  ✓ Successfully loaded: Bearing2_3\n"
     ]
    }
   ],
   "source": [
    "fault_types = [Fault.NC, Fault.OF, Fault.IF, Fault.CF]\n",
    "labeler = BearingFaultLabeler(2048, fault_types, is_multi_hot=False)\n",
    "dataset = Dataset()\n",
    "for bearing_name in ['Bearing1_1', 'Bearing1_2', 'Bearing1_4', 'Bearing2_1', 'Bearing2_3']:\n",
    "    bearing = data_loader(bearing_name, 'Horizontal Vibration')\n",
    "    feature_extractor(bearing)\n",
    "    stage_calculator(bearing)\n",
    "    dataset.add(labeler(bearing))"
   ]
  },
  {
   "cell_type": "markdown",
   "metadata": {
    "collapsed": false,
    "jupyter": {
     "outputs_hidden": false
    },
    "pycharm": {
     "name": "#%% md\n"
    }
   },
   "source": [
    "### 划分数据集：训练集（70%）、验证集（15%）、测试集（15%）\n",
    "- 训练集：用于模型参数学习\n",
    "- 验证集：用于模型调参、早停（early stopping）、选择最佳模型\n",
    "- 测试集：只用于最终性能评估，不参与任何训练和调参过程"
   ]
  },
  {
   "cell_type": "code",
   "execution_count": 4,
   "metadata": {
    "collapsed": false,
    "jupyter": {
     "outputs_hidden": false
    },
    "pycharm": {
     "name": "#%%\n"
    }
   },
   "outputs": [],
   "source": [
    "train_set, test_set = dataset.split_by_ratio(0.7)\n",
    "val_set, test_set = test_set.split_by_ratio(0.5)"
   ]
  },
  {
   "cell_type": "markdown",
   "metadata": {},
   "source": [
    "### 配置测试算法\n",
    "因为没有什么可设置的参数，其实可以使用默认配置。这里使用自定义配置仅为示例"
   ]
  },
  {
   "cell_type": "code",
   "execution_count": 5,
   "metadata": {},
   "outputs": [],
   "source": [
    "test_config = {\n",
    "    'device': torch.device('cuda' if torch.cuda.is_available() else 'cpu'),\n",
    "    'dtype': torch.float32,\n",
    "}\n",
    "tester = BaseTester(test_config)"
   ]
  },
  {
   "cell_type": "markdown",
   "metadata": {},
   "source": [
    "### 自定义配置训练算法&早停、tensorboard、梯度检测回调\n",
    "- EarlyStoppingCallback，早停回调，耐心10，使用准确率指标选取最佳模型\n",
    "- TensorBoardCallback，自动将模型参数保存至tensorboard，文件保存至runs文件夹下\n",
    "- CheckGradientsCallback，检查模型梯度，当过大（梯度爆炸），过小（梯度消失）时日志记录警告信息"
   ]
  },
  {
   "cell_type": "code",
   "execution_count": 6,
   "metadata": {},
   "outputs": [],
   "source": [
    "train_config = {\n",
    "    'device': torch.device('cuda' if torch.cuda.is_available() else 'cpu'),\n",
    "    'dtype': torch.float32,\n",
    "    'epochs': 100,\n",
    "    'batch_size': 128,\n",
    "    'lr': 0.01,\n",
    "    'weight_decay': 0.0,\n",
    "    'criterion': nn.CrossEntropyLoss(),\n",
    "    'callbacks': [\n",
    "        EarlyStoppingCallback(patience=10,\n",
    "                              val_set=val_set,\n",
    "                              metric=Accuracy(),\n",
    "                              tester=tester),\n",
    "        TensorBoardCallback(),\n",
    "        CheckGradientsCallback()\n",
    "    ]\n",
    "}\n",
    "trainer = BaseTrainer(train_config)"
   ]
  },
  {
   "cell_type": "markdown",
   "metadata": {
    "collapsed": false,
    "jupyter": {
     "outputs_hidden": false
    },
    "pycharm": {
     "name": "#%% md\n"
    }
   },
   "source": [
    "### 定义模型并训练"
   ]
  },
  {
   "cell_type": "code",
   "execution_count": 7,
   "metadata": {
    "collapsed": false,
    "jupyter": {
     "outputs_hidden": false
    },
    "pycharm": {
     "name": "#%%\n"
    }
   },
   "outputs": [
    {
     "name": "stderr",
     "output_type": "stream",
     "text": [
      "[INFO    15:11:51]  \n",
      "[Trainer]  Start training by BaseTrainer:\n",
      "\ttraining set: Bearing1_1; Bearing1_2; Bearing1_4;…\n",
      "\tdevice: cuda\n",
      "\tdtype: torch.float32\n",
      "\tepochs: 100\n",
      "\tbatch_size: 128\n",
      "\tlr: 0.01\n",
      "\tweight_decay: 0.0\n",
      "\tcriterion: CrossEntropyLoss()\n",
      "\tcallbacks: [EarlyStoppingCallback, TensorBoardCallback, CheckGradientsCallback]\n",
      "\toptimizer: Adam\n",
      "[DEBUG   15:11:52]  [EarlyStopping]  On the validation set Bearing1_1; Bearing1_2; Bearing1_4; Bearing2_1; Bearing2_3, the Accuracy is 0.1618\n",
      "[INFO    15:11:52]  [BaseTrainer]  Epoch [1/100], CrossEntropyLoss:0.2765\n",
      "[DEBUG   15:11:52]  [EarlyStopping]  On the validation set Bearing1_1; Bearing1_2; Bearing1_4; Bearing2_1; Bearing2_3, the Accuracy is 0.9542\n",
      "[WARNING 15:11:52]  [CheckGradients]  se2.excitation.0.weight gradient is very small: 0.00e+00\n",
      "[WARNING 15:11:52]  [CheckGradients]  se2.excitation.0.bias gradient is very small: 0.00e+00\n",
      "[WARNING 15:11:52]  [CheckGradients]  se2.excitation.2.weight gradient is very small: 0.00e+00\n",
      "[INFO    15:11:53]  [BaseTrainer]  Epoch [2/100], CrossEntropyLoss:0.0918\n",
      "[DEBUG   15:11:53]  [EarlyStopping]  On the validation set Bearing1_1; Bearing1_2; Bearing1_4; Bearing2_1; Bearing2_3, the Accuracy is 0.9598\n",
      "[WARNING 15:11:53]  [CheckGradients]  se2.excitation.0.weight gradient is very small: 1.44e-08\n",
      "[WARNING 15:11:53]  [CheckGradients]  se2.excitation.0.bias gradient is very small: 5.99e-08\n",
      "[WARNING 15:11:53]  [CheckGradients]  se2.excitation.2.weight gradient is very small: 2.43e-10\n",
      "[WARNING 15:11:53]  [CheckGradients]  fc1.weight gradient is very small: 9.22e-06\n",
      "[INFO    15:11:53]  [BaseTrainer]  Epoch [3/100], CrossEntropyLoss:0.0761\n",
      "[DEBUG   15:11:53]  [EarlyStopping]  On the validation set Bearing1_1; Bearing1_2; Bearing1_4; Bearing2_1; Bearing2_3, the Accuracy is 0.9878\n",
      "[WARNING 15:11:53]  [CheckGradients]  se2.excitation.2.weight gradient is very small: 5.29e-07\n",
      "[WARNING 15:11:53]  [CheckGradients]  fc1.weight gradient is very small: 4.36e-06\n",
      "[INFO    15:11:54]  [BaseTrainer]  Epoch [4/100], CrossEntropyLoss:0.0534\n",
      "[DEBUG   15:11:54]  [EarlyStopping]  On the validation set Bearing1_1; Bearing1_2; Bearing1_4; Bearing2_1; Bearing2_3, the Accuracy is 0.9913\n",
      "[WARNING 15:11:54]  [CheckGradients]  se2.excitation.0.weight gradient is very small: 7.94e-08\n",
      "[WARNING 15:11:54]  [CheckGradients]  se2.excitation.0.bias gradient is very small: 2.07e-07\n",
      "[WARNING 15:11:54]  [CheckGradients]  se2.excitation.2.weight gradient is very small: 1.27e-09\n",
      "[WARNING 15:11:54]  [CheckGradients]  fc1.weight gradient is very small: 2.96e-06\n",
      "[INFO    15:11:54]  [BaseTrainer]  Epoch [5/100], CrossEntropyLoss:0.0341\n",
      "[DEBUG   15:11:54]  [EarlyStopping]  On the validation set Bearing1_1; Bearing1_2; Bearing1_4; Bearing2_1; Bearing2_3, the Accuracy is 0.9921\n",
      "[WARNING 15:11:54]  [CheckGradients]  se2.excitation.0.weight gradient is very small: 3.03e-08\n",
      "[WARNING 15:11:54]  [CheckGradients]  se2.excitation.0.bias gradient is very small: 8.01e-08\n",
      "[WARNING 15:11:54]  [CheckGradients]  se2.excitation.2.weight gradient is very small: 3.41e-10\n",
      "[WARNING 15:11:54]  [CheckGradients]  fc1.weight gradient is very small: 7.05e-06\n",
      "[INFO    15:11:54]  [BaseTrainer]  Epoch [6/100], CrossEntropyLoss:0.0459\n",
      "[DEBUG   15:11:55]  [EarlyStopping]  On the validation set Bearing1_1; Bearing1_2; Bearing1_4; Bearing2_1; Bearing2_3, the Accuracy is 0.9851\n",
      "[DEBUG   15:11:55]  [EarlyStopping]  No improvement for [1/10] epochs\n",
      "[WARNING 15:11:55]  [CheckGradients]  se2.excitation.0.weight gradient is very small: 2.07e-07\n",
      "[WARNING 15:11:55]  [CheckGradients]  se2.excitation.0.bias gradient is very small: 5.19e-07\n",
      "[WARNING 15:11:55]  [CheckGradients]  se2.excitation.2.weight gradient is very small: 1.02e-08\n",
      "[WARNING 15:11:55]  [CheckGradients]  conv3.weight gradient is very small: 3.26e-06\n",
      "[WARNING 15:11:55]  [CheckGradients]  se3.excitation.0.weight gradient is very small: 5.45e-06\n",
      "[WARNING 15:11:55]  [CheckGradients]  fc1.weight gradient is very small: 3.95e-07\n",
      "[INFO    15:11:55]  [BaseTrainer]  Epoch [7/100], CrossEntropyLoss:0.0375\n",
      "[DEBUG   15:11:55]  [EarlyStopping]  On the validation set Bearing1_1; Bearing1_2; Bearing1_4; Bearing2_1; Bearing2_3, the Accuracy is 0.9936\n",
      "[WARNING 15:11:55]  [CheckGradients]  se2.excitation.0.weight gradient is very small: 4.31e-08\n",
      "[WARNING 15:11:55]  [CheckGradients]  se2.excitation.0.bias gradient is very small: 9.18e-08\n",
      "[WARNING 15:11:55]  [CheckGradients]  se2.excitation.2.weight gradient is very small: 7.84e-10\n",
      "[INFO    15:11:55]  [BaseTrainer]  Epoch [8/100], CrossEntropyLoss:0.0214\n",
      "[DEBUG   15:11:55]  [EarlyStopping]  On the validation set Bearing1_1; Bearing1_2; Bearing1_4; Bearing2_1; Bearing2_3, the Accuracy is 0.9930\n",
      "[DEBUG   15:11:55]  [EarlyStopping]  No improvement for [1/10] epochs\n",
      "[WARNING 15:11:56]  [CheckGradients]  se2.excitation.2.weight gradient is very small: 2.82e-06\n",
      "[INFO    15:11:56]  [BaseTrainer]  Epoch [9/100], CrossEntropyLoss:0.0811\n",
      "[DEBUG   15:11:56]  [EarlyStopping]  On the validation set Bearing1_1; Bearing1_2; Bearing1_4; Bearing2_1; Bearing2_3, the Accuracy is 0.9720\n",
      "[DEBUG   15:11:56]  [EarlyStopping]  No improvement for [2/10] epochs\n",
      "[WARNING 15:11:56]  [CheckGradients]  se2.excitation.0.weight gradient is very small: 8.77e-06\n",
      "[WARNING 15:11:56]  [CheckGradients]  se2.excitation.0.bias gradient is very small: 6.58e-06\n",
      "[WARNING 15:11:56]  [CheckGradients]  se2.excitation.2.bias gradient is very small: 2.13e-06\n",
      "[WARNING 15:11:56]  [CheckGradients]  conv3.weight gradient is very small: 2.74e-06\n",
      "[WARNING 15:11:56]  [CheckGradients]  se3.excitation.0.weight gradient is very small: 3.92e-06\n",
      "[WARNING 15:11:56]  [CheckGradients]  fc1.weight gradient is very small: 6.10e-07\n",
      "[INFO    15:11:56]  [BaseTrainer]  Epoch [10/100], CrossEntropyLoss:0.0980\n",
      "[DEBUG   15:11:56]  [EarlyStopping]  On the validation set Bearing1_1; Bearing1_2; Bearing1_4; Bearing2_1; Bearing2_3, the Accuracy is 0.9738\n",
      "[DEBUG   15:11:56]  [EarlyStopping]  No improvement for [3/10] epochs\n",
      "[WARNING 15:11:57]  [CheckGradients]  se2.excitation.0.weight gradient is very small: 4.60e-07\n",
      "[WARNING 15:11:57]  [CheckGradients]  se2.excitation.0.bias gradient is very small: 2.73e-07\n",
      "[WARNING 15:11:57]  [CheckGradients]  se2.excitation.2.weight gradient is very small: 4.25e-07\n",
      "[WARNING 15:11:57]  [CheckGradients]  se2.excitation.2.bias gradient is very small: 5.60e-08\n",
      "[WARNING 15:11:57]  [CheckGradients]  conv3.weight gradient is very small: 7.33e-07\n",
      "[WARNING 15:11:57]  [CheckGradients]  fc1.weight gradient is very small: 3.33e-06\n",
      "[INFO    15:11:57]  [BaseTrainer]  Epoch [11/100], CrossEntropyLoss:0.0597\n",
      "[DEBUG   15:11:57]  [EarlyStopping]  On the validation set Bearing1_1; Bearing1_2; Bearing1_4; Bearing2_1; Bearing2_3, the Accuracy is 0.9837\n",
      "[DEBUG   15:11:57]  [EarlyStopping]  No improvement for [4/10] epochs\n",
      "[WARNING 15:11:57]  [CheckGradients]  se2.excitation.0.weight gradient is very small: 5.17e-06\n",
      "[WARNING 15:11:57]  [CheckGradients]  se2.excitation.0.bias gradient is very small: 2.48e-06\n",
      "[WARNING 15:11:57]  [CheckGradients]  se2.excitation.2.bias gradient is very small: 8.17e-06\n",
      "[WARNING 15:11:57]  [CheckGradients]  fc1.weight gradient is very small: 6.11e-07\n",
      "[INFO    15:11:57]  [BaseTrainer]  Epoch [12/100], CrossEntropyLoss:0.0329\n",
      "[DEBUG   15:11:57]  [EarlyStopping]  On the validation set Bearing1_1; Bearing1_2; Bearing1_4; Bearing2_1; Bearing2_3, the Accuracy is 0.9898\n",
      "[DEBUG   15:11:57]  [EarlyStopping]  No improvement for [5/10] epochs\n",
      "[WARNING 15:11:57]  [CheckGradients]  conv2.weight gradient is very small: 4.35e-06\n",
      "[WARNING 15:11:57]  [CheckGradients]  se2.excitation.0.weight gradient is very small: 2.85e-06\n",
      "[WARNING 15:11:57]  [CheckGradients]  se2.excitation.0.bias gradient is very small: 4.66e-06\n",
      "[WARNING 15:11:57]  [CheckGradients]  se2.excitation.2.weight gradient is very small: 6.40e-06\n",
      "[WARNING 15:11:57]  [CheckGradients]  se2.excitation.2.bias gradient is very small: 2.35e-06\n",
      "[WARNING 15:11:57]  [CheckGradients]  conv3.weight gradient is very small: 1.92e-06\n",
      "[WARNING 15:11:57]  [CheckGradients]  fc1.weight gradient is very small: 8.07e-08\n",
      "[WARNING 15:11:57]  [CheckGradients]  fc1.bias gradient is very small: 1.38e-06\n",
      "[INFO    15:11:58]  [BaseTrainer]  Epoch [13/100], CrossEntropyLoss:0.0270\n",
      "[DEBUG   15:11:58]  [EarlyStopping]  On the validation set Bearing1_1; Bearing1_2; Bearing1_4; Bearing2_1; Bearing2_3, the Accuracy is 0.9898\n",
      "[DEBUG   15:11:58]  [EarlyStopping]  No improvement for [6/10] epochs\n",
      "[WARNING 15:11:58]  [CheckGradients]  se2.excitation.0.bias gradient is very small: 7.07e-06\n",
      "[WARNING 15:11:58]  [CheckGradients]  se2.excitation.2.weight gradient is very small: 7.41e-06\n",
      "[WARNING 15:11:58]  [CheckGradients]  se2.excitation.2.bias gradient is very small: 1.17e-06\n",
      "[WARNING 15:11:58]  [CheckGradients]  fc1.weight gradient is very small: 3.71e-07\n",
      "[INFO    15:11:58]  [BaseTrainer]  Epoch [14/100], CrossEntropyLoss:0.0216\n",
      "[DEBUG   15:11:58]  [EarlyStopping]  On the validation set Bearing1_1; Bearing1_2; Bearing1_4; Bearing2_1; Bearing2_3, the Accuracy is 0.9913\n",
      "[DEBUG   15:11:58]  [EarlyStopping]  No improvement for [7/10] epochs\n",
      "[WARNING 15:11:58]  [CheckGradients]  se2.excitation.2.bias gradient is very small: 2.66e-06\n",
      "[WARNING 15:11:58]  [CheckGradients]  fc1.weight gradient is very small: 3.94e-06\n",
      "[INFO    15:11:59]  [BaseTrainer]  Epoch [15/100], CrossEntropyLoss:0.0178\n",
      "[DEBUG   15:11:59]  [EarlyStopping]  On the validation set Bearing1_1; Bearing1_2; Bearing1_4; Bearing2_1; Bearing2_3, the Accuracy is 0.9915\n",
      "[DEBUG   15:11:59]  [EarlyStopping]  No improvement for [8/10] epochs\n",
      "[WARNING 15:11:59]  [CheckGradients]  conv2.weight gradient is very small: 3.79e-06\n",
      "[WARNING 15:11:59]  [CheckGradients]  se2.excitation.0.weight gradient is very small: 4.15e-06\n",
      "[WARNING 15:11:59]  [CheckGradients]  se2.excitation.0.bias gradient is very small: 5.49e-06\n",
      "[WARNING 15:11:59]  [CheckGradients]  se2.excitation.2.weight gradient is very small: 3.10e-06\n",
      "[WARNING 15:11:59]  [CheckGradients]  se2.excitation.2.bias gradient is very small: 8.96e-07\n",
      "[WARNING 15:11:59]  [CheckGradients]  conv3.weight gradient is very small: 1.00e-06\n",
      "[WARNING 15:11:59]  [CheckGradients]  fc1.weight gradient is very small: 5.96e-08\n",
      "[WARNING 15:11:59]  [CheckGradients]  fc1.bias gradient is very small: 1.36e-06\n",
      "[INFO    15:11:59]  [BaseTrainer]  Epoch [16/100], CrossEntropyLoss:0.0227\n",
      "[DEBUG   15:11:59]  [EarlyStopping]  On the validation set Bearing1_1; Bearing1_2; Bearing1_4; Bearing2_1; Bearing2_3, the Accuracy is 0.9927\n",
      "[DEBUG   15:11:59]  [EarlyStopping]  No improvement for [9/10] epochs\n",
      "[WARNING 15:11:59]  [CheckGradients]  fc1.weight gradient is very small: 1.78e-06\n",
      "[INFO    15:12:00]  [BaseTrainer]  Epoch [17/100], CrossEntropyLoss:0.0289\n",
      "[DEBUG   15:12:00]  [EarlyStopping]  On the validation set Bearing1_1; Bearing1_2; Bearing1_4; Bearing2_1; Bearing2_3, the Accuracy is 0.9889\n",
      "[DEBUG   15:12:00]  [EarlyStopping]  No improvement for [10/10] epochs\n",
      "[WARNING 15:12:00]  [BaseTrainer]  End early after epoch\n"
     ]
    }
   ],
   "source": [
    "model = CNN(2048, len(fault_types))\n",
    "losses = trainer.train(model, train_set)"
   ]
  },
  {
   "cell_type": "code",
   "execution_count": 8,
   "metadata": {
    "scrolled": true
   },
   "outputs": [
    {
     "data": {
      "image/png": "[encoded data removed]",
      "text/plain": [
       "<Figure size 400x280 with 1 Axes>"
      ]
     },
     "metadata": {},
     "output_type": "display_data"
    }
   ],
   "source": [
    "Plotter.loss(losses)"
   ]
  },
  {
   "cell_type": "markdown",
   "metadata": {
    "collapsed": false,
    "jupyter": {
     "outputs_hidden": false
    },
    "pycharm": {
     "name": "#%% md\n"
    }
   },
   "source": [
    "### 预测"
   ]
  },
  {
   "cell_type": "code",
   "execution_count": 9,
   "metadata": {
    "collapsed": false,
    "jupyter": {
     "outputs_hidden": false
    },
    "pycharm": {
     "name": "#%%\n"
    }
   },
   "outputs": [],
   "source": [
    "result = tester.test(model, test_set)"
   ]
  },
  {
   "cell_type": "markdown",
   "metadata": {},
   "source": [
    "### 预测结果评估"
   ]
  },
  {
   "cell_type": "code",
   "execution_count": 10,
   "metadata": {},
   "outputs": [
    {
     "data": {
      "image/png": "[encoded data removed]",
      "text/plain": [
       "<Figure size 400x280 with 2 Axes>"
      ]
     },
     "metadata": {},
     "output_type": "display_data"
    }
   ],
   "source": [
    "Plotter.confusion_matrix(test_set, result, types=fault_types)"
   ]
  },
  {
   "cell_type": "code",
   "execution_count": 11,
   "metadata": {
    "pycharm": {
     "name": "#%%\n"
    }
   },
   "outputs": [
    {
     "name": "stderr",
     "output_type": "stream",
     "text": [
      "[INFO    15:12:00]  \n",
      "[Evaluator]  Performance Evaluation:\n",
      "             Accuracy WeightedF1Score\n",
      "Bearing1_1     0.9831          0.9831\n",
      "Bearing1_2     0.9922          0.9923\n",
      "Bearing1_4     0.9829          0.9791\n",
      "Bearing2_1     0.9992          0.9991\n",
      "Bearing2_3     0.9969          0.9969\n",
      "mean(global)   0.9948          0.9947\n",
      "mean(group)    0.9948          0.9944\n",
      "\n"
     ]
    },
    {
     "data": {
      "text/html": [
       "<div>\n",
       "<style scoped>\n",
       "    .dataframe tbody tr th:only-of-type {\n",
       "        vertical-align: middle;\n",
       "    }\n",
       "\n",
       "    .dataframe tbody tr th {\n",
       "        vertical-align: top;\n",
       "    }\n",
       "\n",
       "    .dataframe thead th {\n",
       "        text-align: right;\n",
       "    }\n",
       "</style>\n",
       "<table border=\"1\" class=\"dataframe\">\n",
       "  <thead>\n",
       "    <tr style=\"text-align: right;\">\n",
       "      <th></th>\n",
       "      <th>Accuracy</th>\n",
       "      <th>WeightedF1Score</th>\n",
       "    </tr>\n",
       "  </thead>\n",
       "  <tbody>\n",
       "    <tr>\n",
       "      <th>Bearing1_1</th>\n",
       "      <td>0.9831</td>\n",
       "      <td>0.9831</td>\n",
       "    </tr>\n",
       "    <tr>\n",
       "      <th>Bearing1_2</th>\n",
       "      <td>0.9922</td>\n",
       "      <td>0.9923</td>\n",
       "    </tr>\n",
       "    <tr>\n",
       "      <th>Bearing1_4</th>\n",
       "      <td>0.9829</td>\n",
       "      <td>0.9791</td>\n",
       "    </tr>\n",
       "    <tr>\n",
       "      <th>Bearing2_1</th>\n",
       "      <td>0.9992</td>\n",
       "      <td>0.9991</td>\n",
       "    </tr>\n",
       "    <tr>\n",
       "      <th>Bearing2_3</th>\n",
       "      <td>0.9969</td>\n",
       "      <td>0.9969</td>\n",
       "    </tr>\n",
       "    <tr>\n",
       "      <th>mean(global)</th>\n",
       "      <td>0.9948</td>\n",
       "      <td>0.9947</td>\n",
       "    </tr>\n",
       "    <tr>\n",
       "      <th>mean(group)</th>\n",
       "      <td>0.9948</td>\n",
       "      <td>0.9944</td>\n",
       "    </tr>\n",
       "  </tbody>\n",
       "</table>\n",
       "</div>"
      ],
      "text/plain": [
       "             Accuracy WeightedF1Score\n",
       "Bearing1_1     0.9831          0.9831\n",
       "Bearing1_2     0.9922          0.9923\n",
       "Bearing1_4     0.9829          0.9791\n",
       "Bearing2_1     0.9992          0.9991\n",
       "Bearing2_3     0.9969          0.9969\n",
       "mean(global)   0.9948          0.9947\n",
       "mean(group)    0.9948          0.9944"
      ]
     },
     "execution_count": 11,
     "metadata": {},
     "output_type": "execute_result"
    }
   ],
   "source": [
    "evaluator = Evaluator()\n",
    "evaluator.add(Accuracy(), WeightedF1Score())\n",
    "evaluator(test_set, result)"
   ]
  },
  {
   "cell_type": "code",
   "execution_count": null,
   "metadata": {},
   "outputs": [],
   "source": []
  }
 ],
 "metadata": {
  "kernelspec": {
   "display_name": "Python 3 (ipykernel)",
   "language": "python",
   "name": "python3"
  },
  "language_info": {
   "codemirror_mode": {
    "name": "ipython",
    "version": 3
   },
   "file_extension": ".py",
   "mimetype": "text/x-python",
   "name": "python",
   "nbconvert_exporter": "python",
   "pygments_lexer": "ipython3",
   "version": "3.8.10"
  }
 },
 "nbformat": 4,
 "nbformat_minor": 4
}
